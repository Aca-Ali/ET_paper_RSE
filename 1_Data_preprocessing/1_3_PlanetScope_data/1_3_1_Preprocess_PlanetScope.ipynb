{
 "cells": [
  {
   "cell_type": "code",
   "execution_count": 1,
   "id": "93c235aa-6cb8-4c4e-8278-e2c0876ddbaf",
   "metadata": {},
   "outputs": [],
   "source": [
    "import numpy as np\n",
    "import rasterio\n",
    "import os\n",
    "import re"
   ]
  },
  {
   "cell_type": "code",
   "execution_count": 2,
   "id": "cc524c70-2a44-4ef9-9808-8e0959fbf3be",
   "metadata": {},
   "outputs": [],
   "source": [
    "def find_tif_files_with_date(directory):\n",
    "    # Regular expression pattern to match files with YYYYMMDD and ending with .tif\n",
    "    pattern = re.compile(r'^(\\d{8}).*\\.tif$')\n",
    "    \n",
    "    # Dictionary to store files grouped by their YYYYMMDD date\n",
    "    files_by_date = {}\n",
    "\n",
    "    # Loop through all files in the directory\n",
    "    for filename in os.listdir(directory):\n",
    "        match = pattern.match(filename)\n",
    "        if match:\n",
    "            date = match.group(1)  # Extract the YYYYMMDD part\n",
    "            if date not in files_by_date:\n",
    "                files_by_date[date] = []\n",
    "            files_by_date[date].append(filename)\n",
    "\n",
    "    return files_by_date\n",
    "\n",
    "\n",
    "def udm_mask_PS_imagery(PS_raster_path, UDM2_mask_path):\n",
    "    # Open the original raster image\n",
    "    with rasterio.open(PS_raster_path) as src:\n",
    "        # Read the raster data\n",
    "        raster_data = src.read()\n",
    "        raster_meta = src.meta\n",
    "\n",
    "    # Open the mask raster\n",
    "    with rasterio.open(UDM2_mask_path) as mask_src:\n",
    "        # Read the mask data\n",
    "        shadow_mask = mask_src.read(3).astype(bool) # hard-coded\n",
    "        cloud_mask = mask_src.read(6).astype(bool) # hard-coded\n",
    "        \n",
    "    \n",
    "    # Apply the mask: keep pixels where mask is non-zero (clear pixels), mask others (set to NaN)\n",
    "    mask_data = shadow_mask + cloud_mask\n",
    "    masked_data = np.where(mask_data == 0, raster_data, np.nan)\n",
    "\n",
    "    # Create the output file name by appending the postfix to the original raster name\n",
    "    output_path = PS_raster_path.replace('.tif', '_masked.tif')\n",
    "\n",
    "    # Write the masked raster to a new file\n",
    "    with rasterio.open(output_path, 'w', **raster_meta) as dst:\n",
    "        dst.write(masked_data)\n",
    "\n",
    "    return output_path"
   ]
  },
  {
   "cell_type": "markdown",
   "id": "57f2ceb5-b176-4531-b4f7-a354f2accfd7",
   "metadata": {},
   "source": [
    "## Masking shadows and clouds"
   ]
  },
  {
   "cell_type": "code",
   "execution_count": 3,
   "id": "947dd5c0-4e67-49c8-8a39-f4daff59228e",
   "metadata": {},
   "outputs": [],
   "source": [
    "# 4 years of data for gatesburg\n",
    "Gatesburg_2019_PS_dir = os.path.join(os.getcwd(), 'Data', 'Gatesburg', '2019')\n",
    "Gatesburg_2020_PS_dir = os.path.join(os.getcwd(), 'Data', 'Gatesburg', '2020')\n",
    "Gatesburg_2021_PS_dir = os.path.join(os.getcwd(), 'Data', 'Gatesburg', '2021')\n",
    "Gatesburg_2022_PS_dir = os.path.join(os.getcwd(), 'Data', 'Gatesburg', '2022')\n",
    "Gatesburg_2024_PS_dir = os.path.join(os.getcwd(), 'Data', 'Gatesburg', '2024')\n",
    "\n",
    "# test sites\n",
    "US_HWB_2017_PS_dir = os.path.join(os.getcwd(), 'Data', 'US-HWB')"
   ]
  },
  {
   "cell_type": "code",
   "execution_count": null,
   "id": "c84882ab-4789-4cba-8be3-41599e26c021",
   "metadata": {},
   "outputs": [],
   "source": [
    "# Masking cloud and shadows\n",
    "AOI_PS_dir = Gatesburg_2019_PS_dir\n",
    "PS_file_dates = find_tif_files_with_date(AOI_PS_dir)\n",
    "\n",
    "for f_date in PS_file_dates:\n",
    "    PS_files_list = PS_file_dates[f_date]\n",
    "    for file_name in PS_files_list:\n",
    "        if file_name.endswith('SR_clip.tif')|file_name.endswith('SR_8b_clip.tif')|\\\n",
    "        file_name.endswith('AnalyticMS_clip.tif')|file_name.endswith('AnalyticMS_SR_clip.tif'):\n",
    "            PS_image_file = file_name\n",
    "        elif file_name.endswith('udm2_clip.tif'):\n",
    "            PS_mask_file = file_name\n",
    "\n",
    "    PS_image_dir = os.path.join(AOI_PS_dir, PS_image_file)\n",
    "    PS_mask_dir = os.path.join(AOI_PS_dir, PS_mask_file)\n",
    "\n",
    "    _ = udm_mask_PS_imagery(PS_image_dir, PS_mask_dir)"
   ]
  },
  {
   "cell_type": "code",
   "execution_count": null,
   "id": "85022ed7-4a35-47ef-b507-b6a3d9a0eb3a",
   "metadata": {},
   "outputs": [],
   "source": [
    "# Masking cloud and shadows\n",
    "AOI_PS_dir = Gatesburg_2020_PS_dir\n",
    "PS_file_dates = find_tif_files_with_date(AOI_PS_dir)\n",
    "\n",
    "for f_date in PS_file_dates:\n",
    "    PS_files_list = PS_file_dates[f_date]\n",
    "    for file_name in PS_files_list:\n",
    "        if file_name.endswith('SR_clip.tif')|file_name.endswith('SR_8b_clip.tif')|\\\n",
    "        file_name.endswith('AnalyticMS_clip.tif')|file_name.endswith('AnalyticMS_SR_clip.tif'):\n",
    "            PS_image_file = file_name\n",
    "        elif file_name.endswith('udm2_clip.tif'):\n",
    "            PS_mask_file = file_name\n",
    "\n",
    "    PS_image_dir = os.path.join(AOI_PS_dir, PS_image_file)\n",
    "    PS_mask_dir = os.path.join(AOI_PS_dir, PS_mask_file)\n",
    "\n",
    "    _ = udm_mask_PS_imagery(PS_image_dir, PS_mask_dir)"
   ]
  },
  {
   "cell_type": "code",
   "execution_count": null,
   "id": "86450f0b-b34f-4a13-a0f3-afd09833ab02",
   "metadata": {},
   "outputs": [],
   "source": [
    "# Masking cloud and shadows\n",
    "AOI_PS_dir = Gatesburg_2021_PS_dir\n",
    "PS_file_dates = find_tif_files_with_date(AOI_PS_dir)\n",
    "\n",
    "for f_date in PS_file_dates:\n",
    "    PS_files_list = PS_file_dates[f_date]\n",
    "    for file_name in PS_files_list:\n",
    "        if file_name.endswith('SR_clip.tif')|file_name.endswith('SR_8b_clip.tif')|\\\n",
    "        file_name.endswith('AnalyticMS_clip.tif')|file_name.endswith('AnalyticMS_SR_clip.tif'):\n",
    "            PS_image_file = file_name\n",
    "        elif file_name.endswith('udm2_clip.tif'):\n",
    "            PS_mask_file = file_name\n",
    "\n",
    "    PS_image_dir = os.path.join(AOI_PS_dir, PS_image_file)\n",
    "    PS_mask_dir = os.path.join(AOI_PS_dir, PS_mask_file)\n",
    "\n",
    "    _ = udm_mask_PS_imagery(PS_image_dir, PS_mask_dir)"
   ]
  },
  {
   "cell_type": "code",
   "execution_count": null,
   "id": "5a202355-8117-4bd3-9355-d4611b29ea62",
   "metadata": {},
   "outputs": [],
   "source": [
    "# Masking cloud and shadows\n",
    "AOI_PS_dir = Gatesburg_2022_PS_dir\n",
    "PS_file_dates = find_tif_files_with_date(AOI_PS_dir)\n",
    "\n",
    "for f_date in PS_file_dates:\n",
    "    PS_files_list = PS_file_dates[f_date]\n",
    "    for file_name in PS_files_list:\n",
    "        if file_name.endswith('SR_clip.tif')|file_name.endswith('SR_8b_clip.tif')|\\\n",
    "        file_name.endswith('AnalyticMS_clip.tif')|file_name.endswith('AnalyticMS_SR_clip.tif'):\n",
    "            PS_image_file = file_name\n",
    "        elif file_name.endswith('udm2_clip.tif'):\n",
    "            PS_mask_file = file_name\n",
    "\n",
    "    PS_image_dir = os.path.join(AOI_PS_dir, PS_image_file)\n",
    "    PS_mask_dir = os.path.join(AOI_PS_dir, PS_mask_file)\n",
    "\n",
    "    _ = udm_mask_PS_imagery(PS_image_dir, PS_mask_dir)"
   ]
  },
  {
   "cell_type": "code",
   "execution_count": 4,
   "id": "d5fa7a34-b560-4233-a063-9ea6e0970410",
   "metadata": {},
   "outputs": [
    {
     "name": "stderr",
     "output_type": "stream",
     "text": [
      "C:\\Users\\adadkhah\\AppData\\Local\\anaconda3\\envs\\PA\\lib\\site-packages\\numpy\\core\\_asarray.py:126: RuntimeWarning: invalid value encountered in cast\n",
      "  arr = array(a, dtype=dtype, order=order, copy=False, subok=subok)\n"
     ]
    }
   ],
   "source": [
    "# Masking cloud and shadows\n",
    "AOI_PS_dir = Gatesburg_2024_PS_dir\n",
    "PS_file_dates = find_tif_files_with_date(AOI_PS_dir)\n",
    "\n",
    "for f_date in PS_file_dates:\n",
    "    PS_files_list = PS_file_dates[f_date]\n",
    "    for file_name in PS_files_list:\n",
    "        if file_name.endswith('SR_clip.tif')|file_name.endswith('SR_8b_clip.tif')|\\\n",
    "        file_name.endswith('AnalyticMS_clip.tif')|file_name.endswith('AnalyticMS_SR_clip.tif'):\n",
    "            PS_image_file = file_name\n",
    "        elif file_name.endswith('udm2_clip.tif'):\n",
    "            PS_mask_file = file_name\n",
    "\n",
    "    PS_image_dir = os.path.join(AOI_PS_dir, PS_image_file)\n",
    "    PS_mask_dir = os.path.join(AOI_PS_dir, PS_mask_file)\n",
    "\n",
    "    _ = udm_mask_PS_imagery(PS_image_dir, PS_mask_dir)"
   ]
  },
  {
   "cell_type": "code",
   "execution_count": 9,
   "id": "4cfac572-0333-4761-a2cb-e69e7d2d260f",
   "metadata": {},
   "outputs": [],
   "source": [
    "# Masking cloud and shadows\n",
    "AOI_PS_dir = US_HWB_2017_PS_dir\n",
    "PS_file_dates = find_tif_files_with_date(AOI_PS_dir)\n",
    "\n",
    "for f_date in PS_file_dates:\n",
    "    PS_files_list = PS_file_dates[f_date]\n",
    "    for file_name in PS_files_list:\n",
    "        if file_name.endswith('SR_clip.tif')|file_name.endswith('SR_8b_clip.tif')|\\\n",
    "        file_name.endswith('AnalyticMS_clip.tif')|file_name.endswith('AnalyticMS_SR_clip.tif'):\n",
    "            PS_image_file = file_name\n",
    "        elif file_name.endswith('udm2_clip.tif'):\n",
    "            PS_mask_file = file_name\n",
    "\n",
    "    PS_image_dir = os.path.join(AOI_PS_dir, PS_image_file)\n",
    "    PS_mask_dir = os.path.join(AOI_PS_dir, PS_mask_file)\n",
    "\n",
    "    _ = udm_mask_PS_imagery(PS_image_dir, PS_mask_dir)"
   ]
  },
  {
   "cell_type": "code",
   "execution_count": null,
   "id": "d02704c8-eee3-4c60-a454-dc734ebc1358",
   "metadata": {},
   "outputs": [],
   "source": []
  }
 ],
 "metadata": {
  "kernelspec": {
   "display_name": "Python 3 (ipykernel)",
   "language": "python",
   "name": "python3"
  },
  "language_info": {
   "codemirror_mode": {
    "name": "ipython",
    "version": 3
   },
   "file_extension": ".py",
   "mimetype": "text/x-python",
   "name": "python",
   "nbconvert_exporter": "python",
   "pygments_lexer": "ipython3",
   "version": "3.10.12"
  }
 },
 "nbformat": 4,
 "nbformat_minor": 5
}
