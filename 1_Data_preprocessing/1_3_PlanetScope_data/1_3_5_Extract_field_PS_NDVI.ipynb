{
 "cells": [
  {
   "cell_type": "code",
   "execution_count": 1,
   "id": "393c8608-4c8d-4dfa-868b-5caf800bad83",
   "metadata": {},
   "outputs": [],
   "source": [
    "import pandas as pd\n",
    "import numpy as np\n",
    "import os\n",
    "import rioxarray\n",
    "import geopandas as gpd"
   ]
  },
  {
   "cell_type": "code",
   "execution_count": 2,
   "id": "04754572-876f-487a-9b4e-123421b4dc8b",
   "metadata": {},
   "outputs": [],
   "source": [
    "def raster_to_gdf_with_date(multiband_raster, Band_name='daily_NDVI'):\n",
    "    \n",
    "    image_date = os.path.basename(multiband_raster)[:8]\n",
    "    \n",
    "    with rioxarray.open_rasterio(multiband_raster) as raster:\n",
    "        num_bands = raster.rio.count\n",
    "        for i in range(1, num_bands+1):\n",
    "            \n",
    "            selected_data = raster.isel(band=i-1)\n",
    "            raster.name = Band_name\n",
    "            nodata_value = raster.rio.nodata\n",
    "            #print(nodata_value)\n",
    "            df = raster.squeeze().to_dataframe().reset_index()\n",
    "            geometry = gpd.points_from_xy(df.x, df.y)\n",
    "            gdf = gpd.GeoDataFrame(df, crs=raster.rio.crs, geometry=geometry).to_crs(epsg=4326)\n",
    "            gdf['latitude'] = gdf.geometry.y\n",
    "            gdf['longitude'] = gdf.geometry.x\n",
    "\n",
    "            gdf = gdf.drop(columns=['x', 'y', 'spatial_ref', 'band'], errors='ignore')\n",
    "            gdf['Date'] = image_date\n",
    "            \n",
    "            return gdf[['Date', 'latitude', 'longitude', Band_name, 'geometry']]"
   ]
  },
  {
   "cell_type": "code",
   "execution_count": 4,
   "id": "cddfc1bb-db79-42a7-8143-0ad8f866c416",
   "metadata": {},
   "outputs": [],
   "source": [
    "# 4 years of data for gatesburg\n",
    "Gatesburg_2019_PS_dir = os.path.join(os.path.dirname(os.getcwd()), 'Data', 'PlanetScope', 'Gatesburg', '2019')\n",
    "Gatesburg_2020_PS_dir = os.path.join(os.path.dirname(os.getcwd()), 'Data', 'PlanetScope', 'Gatesburg', '2020')\n",
    "Gatesburg_2021_PS_dir = os.path.join(os.path.dirname(os.getcwd()), 'Data', 'PlanetScope', 'Gatesburg', '2021')\n",
    "Gatesburg_2022_PS_dir = os.path.join(os.path.dirname(os.getcwd()), 'Data', 'PlanetScope', 'Gatesburg', '2022')\n",
    "\n",
    "\n",
    "# test sites\n",
    "Gatesburg_2024_PS_dir = os.path.join(os.getcwd(), 'Data', 'Gatesburg', '2024')\n",
    "#US_HWB_2017_PS_dir = os.path.join(os.path.dirname(os.getcwd()), 'Data', 'PlanetScope', 'US-HWB')"
   ]
  },
  {
   "cell_type": "code",
   "execution_count": 6,
   "id": "2c2bfb4c-6c75-45cf-8d38-5f1ba938e012",
   "metadata": {},
   "outputs": [],
   "source": [
    "# Imputed PS_NDVI directory\n",
    "PS_ndvi_dir = os.path.join(Gatesburg_2024_PS_dir, 'NDVI', 'standardized_crs_clipped', 'NDVI_imputed')\n",
    "\n",
    "all_gdfs = []\n",
    "for ndvi_file in os.listdir(PS_ndvi_dir):\n",
    "    if ndvi_file.endswith('.tif'):\n",
    "        ndvi_file_path = os.path.join(PS_ndvi_dir, ndvi_file)\n",
    "        ndvi_date = ndvi_file[:8]\n",
    "\n",
    "        all_gdfs.append(raster_to_gdf_with_date(ndvi_file_path, Band_name='daily_NDVI'))\n",
    "\n",
    "combined_gdf = gpd.GeoDataFrame(pd.concat(all_gdfs, ignore_index=True))\n",
    "filtered_combined_gdf = combined_gdf[combined_gdf['daily_NDVI']>0]\n",
    "\n",
    "filtered_combined_gdf.to_csv(os.path.join('NDVI_CSVs', 'daily_PS_NDVI_GBF_2024_entirefield.csv'), index=False)"
   ]
  },
  {
   "cell_type": "code",
   "execution_count": 16,
   "id": "07532a81-94fa-464e-ae0f-e0afc34dce5e",
   "metadata": {},
   "outputs": [],
   "source": [
    "# Imputed PS_NDVI directory\n",
    "PS_ndvi_dir = os.path.join(US_HWB_2017_PS_dir, 'NDVI', 'standardized_crs', 'NDVI_imputed')\n",
    "\n",
    "all_gdfs = []\n",
    "for ndvi_file in os.listdir(PS_ndvi_dir):\n",
    "    if ndvi_file.endswith('.tif'):\n",
    "        ndvi_file_path = os.path.join(PS_ndvi_dir, ndvi_file)\n",
    "        ndvi_date = ndvi_file[:8]\n",
    "\n",
    "        all_gdfs.append(raster_to_gdf_with_date(ndvi_file_path, Band_name='daily_NDVI'))\n",
    "\n",
    "combined_gdf = gpd.GeoDataFrame(pd.concat(all_gdfs, ignore_index=True))\n",
    "filtered_combined_gdf = combined_gdf[combined_gdf['daily_NDVI']>0]\n",
    "\n",
    "filtered_combined_gdf.to_csv('daily_PS_NDVI_HWB_2017_entirefield.csv', index=False)"
   ]
  },
  {
   "cell_type": "code",
   "execution_count": null,
   "id": "91098bf1-5e54-42d7-b225-a810e6d3432a",
   "metadata": {},
   "outputs": [],
   "source": []
  }
 ],
 "metadata": {
  "kernelspec": {
   "display_name": "Python 3 (ipykernel)",
   "language": "python",
   "name": "python3"
  },
  "language_info": {
   "codemirror_mode": {
    "name": "ipython",
    "version": 3
   },
   "file_extension": ".py",
   "mimetype": "text/x-python",
   "name": "python",
   "nbconvert_exporter": "python",
   "pygments_lexer": "ipython3",
   "version": "3.10.12"
  }
 },
 "nbformat": 4,
 "nbformat_minor": 5
}
