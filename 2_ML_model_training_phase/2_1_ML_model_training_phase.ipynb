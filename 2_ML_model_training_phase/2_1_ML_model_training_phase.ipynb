{
 "cells": [
  {
   "cell_type": "code",
   "execution_count": null,
   "id": "e7eb2a2c-189e-444a-86a0-5426f23c1f7c",
   "metadata": {},
   "outputs": [
    {
     "name": "stderr",
     "output_type": "stream",
     "text": [
      "C:\\Users\\adadkhah\\AppData\\Local\\anaconda3\\envs\\PA\\lib\\site-packages\\dask\\dataframe\\_pyarrow_compat.py:23: UserWarning: You are using pyarrow version 11.0.0 which is known to be insecure. See https://www.cve.org/CVERecord?id=CVE-2023-47248 for further details. Please upgrade to pyarrow>=14.0.1 or install pyarrow-hotfix to patch your current version.\n",
      "  warnings.warn(\n"
     ]
    }
   ],
   "source": [
    "import numpy as np\n",
    "import pandas as pd\n",
    "import os\n",
    "import matplotlib.pyplot as plt\n",
    "from sklearn.metrics import r2_score\n",
    "import lightgbm as lgb\n",
    "import optuna\n",
    "from sklearn.metrics import mean_squared_error\n",
    "from sklearn.metrics import mean_absolute_error\n",
    "from sklearn.model_selection import train_test_split\n",
    "from sklearn.model_selection import StratifiedKFold\n",
    "\n",
    "from IPython.display import clear_output\n",
    "import warnings\n",
    "warnings.filterwarnings('ignore')"
   ]
  },
  {
   "cell_type": "code",
   "execution_count": 2,
   "id": "af4d43d1-0495-408a-a469-10d46d83f31c",
   "metadata": {},
   "outputs": [],
   "source": [
    "Scenario = 'Scenario_B'\n",
    "ML_model = 'LightGBM_001'"
   ]
  },
  {
   "cell_type": "markdown",
   "id": "be2ca8af-ea06-45df-a8e3-4a3488019c1f",
   "metadata": {
    "jp-MarkdownHeadingCollapsed": true
   },
   "source": [
    "### Functions"
   ]
  },
  {
   "cell_type": "code",
   "execution_count": 6,
   "id": "14ccc1fe-8cce-4d41-a9de-cf81a0af4f9a",
   "metadata": {},
   "outputs": [],
   "source": [
    "def predict_LGBM(model, X_df, y_df, prediction_col='ETa_predicted'):\n",
    "\n",
    "    \n",
    "    preds = model.predict(X_df)\n",
    "    \n",
    "    # Create a copy of the DataFrame and add the predictions column.\n",
    "    df_with_preds = pd.concat([X_df, y_df], axis=1).copy()\n",
    "    df_with_preds[prediction_col] = preds\n",
    "    \n",
    "    return df_with_preds"
   ]
  },
  {
   "cell_type": "markdown",
   "id": "6e176ed3-b301-4760-8275-ac555d2f78a5",
   "metadata": {},
   "source": [
    "## Model training"
   ]
  },
  {
   "cell_type": "code",
   "execution_count": 7,
   "id": "34016f58-cff1-4283-86d8-adec6ee005e3",
   "metadata": {},
   "outputs": [],
   "source": [
    "train_file_UC1 = os.path.join(os.path.dirname(os.getcwd()),'6_Data_aggregation',\n",
    "                             'US_UC1_Hourly_ECT_PSNDVI_ETa_Scenario_B_ECT_train_AORC_test.csv')  # Change to your training file path\n",
    "\n",
    "train_file_UC2 = os.path.join(os.path.dirname(os.getcwd()),'6_Data_aggregation',\n",
    "                             'US_UC2_Hourly_ECT_PSNDVI_ETa_Scenario_B_ECT_train_AORC_test.csv')  # Change to your training file path\n",
    "\n",
    "# Load the data; ensure that the timestamp column is parsed as dates.\n",
    "UC1_train_df = pd.read_csv(train_file_UC1, index_col=0, parse_dates=[0])\n",
    "UC2_train_df = pd.read_csv(train_file_UC2, index_col=0, parse_dates=[0])\n",
    "\n",
    "train_df = pd.concat([UC1_train_df, UC2_train_df])\n",
    "\n",
    "# Drop observations with nan NDVI values or flag==1 or ET_corr nan values\n",
    "train_df_filtered = train_df[(train_df['NDVI']>0) & (train_df['ETa_corr']>0) & (train_df['ffp_intersection_flag']==0)]\n",
    "\n",
    "train_df_filtered = train_df_filtered.rename(columns={'TA_1_1_1': 'Air Temperature', 'RH_1_1_1': 'relative_humidity',\n",
    "                                                      'SW_IN_1_1_1':'Downward Short-Wave Radiation Flux',\n",
    "                                                      'LW_IN_1_1_1':'Downward Long-Wave Radiation Flux',\n",
    "                                                      'WS':'Wind Speed', 'PA':'Air Pressure',\n",
    "                                                      'P_RAIN_1_1_1':'Total Precipitation'})\n",
    "\n",
    "# Drop 'Downward Long-Wave Radiation Flux' and 'Total Precipitation' based on HXGB001 results\n",
    "train_df_filtered = train_df_filtered.drop(columns=['Downward Long-Wave Radiation Flux', 'Total Precipitation', 'Wind Speed', 'Air Pressure'])\n",
    "\n",
    "# train X and y\n",
    "X_train_val = train_df_filtered.drop(columns=['ETa_corr', 'ffp_intersection_flag', 'ETa_NaN_flag'])  # Training features\n",
    "y_train_val = train_df_filtered['ETa_corr']  # Training target"
   ]
  },
  {
   "cell_type": "code",
   "execution_count": 8,
   "id": "7c5a222d-196a-48d9-b3a2-d7d434336e31",
   "metadata": {},
   "outputs": [
    {
     "data": {
      "text/html": [
       "<div>\n",
       "<style scoped>\n",
       "    .dataframe tbody tr th:only-of-type {\n",
       "        vertical-align: middle;\n",
       "    }\n",
       "\n",
       "    .dataframe tbody tr th {\n",
       "        vertical-align: top;\n",
       "    }\n",
       "\n",
       "    .dataframe thead th {\n",
       "        text-align: right;\n",
       "    }\n",
       "</style>\n",
       "<table border=\"1\" class=\"dataframe\">\n",
       "  <thead>\n",
       "    <tr style=\"text-align: right;\">\n",
       "      <th></th>\n",
       "      <th>NDVI</th>\n",
       "      <th>Air Temperature</th>\n",
       "      <th>relative_humidity</th>\n",
       "      <th>Downward Short-Wave Radiation Flux</th>\n",
       "    </tr>\n",
       "  </thead>\n",
       "  <tbody>\n",
       "    <tr>\n",
       "      <th>2019-05-20 17:00:00</th>\n",
       "      <td>0.501102</td>\n",
       "      <td>23.43530</td>\n",
       "      <td>41.33385</td>\n",
       "      <td>305.196000</td>\n",
       "    </tr>\n",
       "    <tr>\n",
       "      <th>2019-05-20 18:00:00</th>\n",
       "      <td>0.495893</td>\n",
       "      <td>21.37005</td>\n",
       "      <td>49.39870</td>\n",
       "      <td>85.643600</td>\n",
       "    </tr>\n",
       "    <tr>\n",
       "      <th>2019-05-21 08:00:00</th>\n",
       "      <td>0.491184</td>\n",
       "      <td>10.86390</td>\n",
       "      <td>53.09805</td>\n",
       "      <td>595.519000</td>\n",
       "    </tr>\n",
       "    <tr>\n",
       "      <th>2019-05-21 10:00:00</th>\n",
       "      <td>0.490087</td>\n",
       "      <td>14.01855</td>\n",
       "      <td>44.29245</td>\n",
       "      <td>997.851000</td>\n",
       "    </tr>\n",
       "    <tr>\n",
       "      <th>2019-05-21 11:00:00</th>\n",
       "      <td>0.489702</td>\n",
       "      <td>14.89420</td>\n",
       "      <td>42.03250</td>\n",
       "      <td>674.758000</td>\n",
       "    </tr>\n",
       "    <tr>\n",
       "      <th>...</th>\n",
       "      <td>...</td>\n",
       "      <td>...</td>\n",
       "      <td>...</td>\n",
       "      <td>...</td>\n",
       "    </tr>\n",
       "    <tr>\n",
       "      <th>2022-12-07 13:00:00</th>\n",
       "      <td>0.499595</td>\n",
       "      <td>12.32465</td>\n",
       "      <td>84.76705</td>\n",
       "      <td>342.299500</td>\n",
       "    </tr>\n",
       "    <tr>\n",
       "      <th>2022-12-07 14:00:00</th>\n",
       "      <td>0.499336</td>\n",
       "      <td>13.13275</td>\n",
       "      <td>83.41765</td>\n",
       "      <td>186.696000</td>\n",
       "    </tr>\n",
       "    <tr>\n",
       "      <th>2022-12-07 16:00:00</th>\n",
       "      <td>0.493651</td>\n",
       "      <td>13.03555</td>\n",
       "      <td>83.54605</td>\n",
       "      <td>6.764885</td>\n",
       "    </tr>\n",
       "    <tr>\n",
       "      <th>2022-12-07 17:00:00</th>\n",
       "      <td>0.495269</td>\n",
       "      <td>13.59060</td>\n",
       "      <td>78.00540</td>\n",
       "      <td>-0.341286</td>\n",
       "    </tr>\n",
       "    <tr>\n",
       "      <th>2022-12-07 18:00:00</th>\n",
       "      <td>0.496537</td>\n",
       "      <td>12.55745</td>\n",
       "      <td>86.52005</td>\n",
       "      <td>-2.609980</td>\n",
       "    </tr>\n",
       "  </tbody>\n",
       "</table>\n",
       "<p>8566 rows × 4 columns</p>\n",
       "</div>"
      ],
      "text/plain": [
       "                         NDVI  Air Temperature  relative_humidity  \\\n",
       "2019-05-20 17:00:00  0.501102         23.43530           41.33385   \n",
       "2019-05-20 18:00:00  0.495893         21.37005           49.39870   \n",
       "2019-05-21 08:00:00  0.491184         10.86390           53.09805   \n",
       "2019-05-21 10:00:00  0.490087         14.01855           44.29245   \n",
       "2019-05-21 11:00:00  0.489702         14.89420           42.03250   \n",
       "...                       ...              ...                ...   \n",
       "2022-12-07 13:00:00  0.499595         12.32465           84.76705   \n",
       "2022-12-07 14:00:00  0.499336         13.13275           83.41765   \n",
       "2022-12-07 16:00:00  0.493651         13.03555           83.54605   \n",
       "2022-12-07 17:00:00  0.495269         13.59060           78.00540   \n",
       "2022-12-07 18:00:00  0.496537         12.55745           86.52005   \n",
       "\n",
       "                     Downward Short-Wave Radiation Flux  \n",
       "2019-05-20 17:00:00                          305.196000  \n",
       "2019-05-20 18:00:00                           85.643600  \n",
       "2019-05-21 08:00:00                          595.519000  \n",
       "2019-05-21 10:00:00                          997.851000  \n",
       "2019-05-21 11:00:00                          674.758000  \n",
       "...                                                 ...  \n",
       "2022-12-07 13:00:00                          342.299500  \n",
       "2022-12-07 14:00:00                          186.696000  \n",
       "2022-12-07 16:00:00                            6.764885  \n",
       "2022-12-07 17:00:00                           -0.341286  \n",
       "2022-12-07 18:00:00                           -2.609980  \n",
       "\n",
       "[8566 rows x 4 columns]"
      ]
     },
     "execution_count": 8,
     "metadata": {},
     "output_type": "execute_result"
    }
   ],
   "source": [
    "X_train_val"
   ]
  },
  {
   "cell_type": "code",
   "execution_count": 39,
   "id": "cee8aba8-602a-4d84-b11f-6a8801545c9d",
   "metadata": {
    "scrolled": true
   },
   "outputs": [
    {
     "name": "stderr",
     "output_type": "stream",
     "text": [
      "[I 2025-05-22 16:52:13,705] A new study created in memory with name: no-name-de74fdc7-3938-4b3a-a03a-3a68aa81ba96\n",
      "[I 2025-05-22 16:52:34,674] Trial 0 finished with value: 0.07336801882931257 and parameters: {'objective': 'huber', 'learning_rate': 0.010381454921318124, 'num_leaves': 143, 'max_depth': 15, 'feature_fraction': 0.34843913162274487, 'bagging_fraction': 0.8885037115733644, 'bagging_freq': 8, 'lambda_l1': 0.12425736158500596, 'lambda_l2': 0.11635460337295818}. Best is trial 0 with value: 0.07336801882931257.\n",
      "[I 2025-05-22 16:52:38,985] Trial 1 finished with value: 0.06664901617623817 and parameters: {'objective': 'regression', 'learning_rate': 0.004733511210336748, 'num_leaves': 141, 'max_depth': 21, 'feature_fraction': 0.4004617434178839, 'bagging_fraction': 0.20352855827798022, 'bagging_freq': 8, 'lambda_l1': 1.3815636944679697, 'lambda_l2': 0.01274831644466275}. Best is trial 1 with value: 0.06664901617623817.\n",
      "[I 2025-05-22 16:52:42,143] Trial 2 finished with value: 0.07099338718285376 and parameters: {'objective': 'huber', 'learning_rate': 0.004327791141354723, 'num_leaves': 129, 'max_depth': 13, 'feature_fraction': 0.5809056570843338, 'bagging_fraction': 0.19299792737474053, 'bagging_freq': 3, 'lambda_l1': 4.296062086433288, 'lambda_l2': 0.013312240889487157}. Best is trial 1 with value: 0.06664901617623817.\n",
      "[I 2025-05-22 16:52:53,538] Trial 3 finished with value: 0.06320400200093626 and parameters: {'objective': 'huber', 'learning_rate': 0.014896146990452126, 'num_leaves': 38, 'max_depth': 11, 'feature_fraction': 0.923423593087534, 'bagging_fraction': 0.8362446750473745, 'bagging_freq': 7, 'lambda_l1': 0.18480803172911145, 'lambda_l2': 0.1374913896816498}. Best is trial 3 with value: 0.06320400200093626.\n",
      "[I 2025-05-22 16:52:56,072] Trial 4 finished with value: 0.07076369527829783 and parameters: {'objective': 'regression', 'learning_rate': 0.022132338582268034, 'num_leaves': 141, 'max_depth': 7, 'feature_fraction': 0.282080799775864, 'bagging_fraction': 0.6230163445159353, 'bagging_freq': 6, 'lambda_l1': 5.117816264491907, 'lambda_l2': 0.2899941337746074}. Best is trial 3 with value: 0.06320400200093626.\n",
      "[I 2025-05-22 16:53:13,233] Trial 5 finished with value: 0.06994439524207394 and parameters: {'objective': 'regression', 'learning_rate': 0.0213120818532306, 'num_leaves': 73, 'max_depth': 16, 'feature_fraction': 0.49290561216866613, 'bagging_fraction': 0.7527621395126731, 'bagging_freq': 7, 'lambda_l1': 0.11946928494631806, 'lambda_l2': 0.004750518653074658}. Best is trial 3 with value: 0.06320400200093626.\n",
      "[I 2025-05-22 16:53:35,065] Trial 6 finished with value: 0.0659613380405599 and parameters: {'objective': 'huber', 'learning_rate': 0.0014838603610822234, 'num_leaves': 135, 'max_depth': 22, 'feature_fraction': 0.6675891037695078, 'bagging_fraction': 0.9896500015464489, 'bagging_freq': 10, 'lambda_l1': 0.20393957120432796, 'lambda_l2': 1.2586541595259242}. Best is trial 3 with value: 0.06320400200093626.\n",
      "[I 2025-05-22 16:53:40,667] Trial 7 finished with value: 0.06232536754932607 and parameters: {'objective': 'huber', 'learning_rate': 0.005089533115400381, 'num_leaves': 111, 'max_depth': 18, 'feature_fraction': 0.7061124548289697, 'bagging_fraction': 0.13312124726799346, 'bagging_freq': 4, 'lambda_l1': 0.6824266862131887, 'lambda_l2': 1.519919970950604}. Best is trial 7 with value: 0.06232536754932607.\n",
      "[I 2025-05-22 16:53:43,735] Trial 8 finished with value: 0.07060231722172343 and parameters: {'objective': 'regression', 'learning_rate': 0.09134442716061814, 'num_leaves': 46, 'max_depth': 8, 'feature_fraction': 0.16801638296076943, 'bagging_fraction': 0.8084628635200196, 'bagging_freq': 2, 'lambda_l1': 2.17417046844474, 'lambda_l2': 0.011643131499505842}. Best is trial 7 with value: 0.06232536754932607.\n",
      "[I 2025-05-22 16:53:49,423] Trial 9 finished with value: 0.07181084780551433 and parameters: {'objective': 'regression', 'learning_rate': 0.04219022112462106, 'num_leaves': 45, 'max_depth': 20, 'feature_fraction': 0.10831110810337805, 'bagging_fraction': 0.8791139112935661, 'bagging_freq': 4, 'lambda_l1': 0.6721073550572276, 'lambda_l2': 0.010657816837505552}. Best is trial 7 with value: 0.06232536754932607.\n",
      "[I 2025-05-22 16:53:53,785] Trial 10 finished with value: 0.07046880316085424 and parameters: {'objective': 'huber', 'learning_rate': 0.0014175091852703181, 'num_leaves': 96, 'max_depth': 3, 'feature_fraction': 0.8105058941875272, 'bagging_fraction': 0.4167711435015866, 'bagging_freq': 1, 'lambda_l1': 0.4930545248220119, 'lambda_l2': 9.507411712478147}. Best is trial 7 with value: 0.06232536754932607.\n",
      "[I 2025-05-22 16:54:01,770] Trial 11 finished with value: 0.061333052822077475 and parameters: {'objective': 'huber', 'learning_rate': 0.005152650546248988, 'num_leaves': 21, 'max_depth': 12, 'feature_fraction': 0.9184400496196834, 'bagging_fraction': 0.41631566459071034, 'bagging_freq': 5, 'lambda_l1': 0.38386917803433224, 'lambda_l2': 1.1602160040110643}. Best is trial 11 with value: 0.061333052822077475.\n",
      "[I 2025-05-22 16:54:14,880] Trial 12 finished with value: 0.061612676635990495 and parameters: {'objective': 'huber', 'learning_rate': 0.004807376940313022, 'num_leaves': 101, 'max_depth': 25, 'feature_fraction': 0.7645413086523952, 'bagging_fraction': 0.3661282377141415, 'bagging_freq': 4, 'lambda_l1': 0.32480603218122345, 'lambda_l2': 1.9108678236422116}. Best is trial 11 with value: 0.061333052822077475.\n",
      "[I 2025-05-22 16:54:27,881] Trial 13 finished with value: 0.06104673077431845 and parameters: {'objective': 'huber', 'learning_rate': 0.0027156181457236622, 'num_leaves': 72, 'max_depth': 25, 'feature_fraction': 0.9811185996538638, 'bagging_fraction': 0.39967109193895095, 'bagging_freq': 5, 'lambda_l1': 0.3452486245965446, 'lambda_l2': 8.831284928443216}. Best is trial 13 with value: 0.06104673077431845.\n",
      "[I 2025-05-22 16:54:40,036] Trial 14 finished with value: 0.061069380193268706 and parameters: {'objective': 'huber', 'learning_rate': 0.0025541659141749182, 'num_leaves': 67, 'max_depth': 11, 'feature_fraction': 0.9878719464797884, 'bagging_fraction': 0.4043489058972259, 'bagging_freq': 5, 'lambda_l1': 0.3738266940216761, 'lambda_l2': 8.877338673542905}. Best is trial 13 with value: 0.06104673077431845.\n",
      "[I 2025-05-22 16:54:49,515] Trial 15 finished with value: 0.06232044878924746 and parameters: {'objective': 'huber', 'learning_rate': 0.0023367681038081907, 'num_leaves': 74, 'max_depth': 25, 'feature_fraction': 0.9775637013055523, 'bagging_fraction': 0.5451175644755349, 'bagging_freq': 6, 'lambda_l1': 1.2809597729574596, 'lambda_l2': 8.803813257205555}. Best is trial 13 with value: 0.06104673077431845.\n",
      "[I 2025-05-22 16:54:59,816] Trial 16 finished with value: 0.06188566670582416 and parameters: {'objective': 'huber', 'learning_rate': 0.002468937240265663, 'num_leaves': 64, 'max_depth': 9, 'feature_fraction': 0.8489670197910734, 'bagging_fraction': 0.3262212677568033, 'bagging_freq': 5, 'lambda_l1': 0.26417303937633685, 'lambda_l2': 0.0014172860134915731}. Best is trial 13 with value: 0.06104673077431845.\n",
      "[I 2025-05-22 16:55:07,336] Trial 17 finished with value: 0.06631245322651332 and parameters: {'objective': 'huber', 'learning_rate': 0.001048962679148819, 'num_leaves': 62, 'max_depth': 5, 'feature_fraction': 0.9983709019997061, 'bagging_fraction': 0.5390308520430219, 'bagging_freq': 3, 'lambda_l1': 0.7532368767598784, 'lambda_l2': 4.243818436441611}. Best is trial 13 with value: 0.06104673077431845.\n",
      "[I 2025-05-22 16:55:13,207] Trial 18 finished with value: 0.06310311324538549 and parameters: {'objective': 'huber', 'learning_rate': 0.0026305188707740207, 'num_leaves': 89, 'max_depth': 16, 'feature_fraction': 0.6252694706656038, 'bagging_fraction': 0.6422764500115905, 'bagging_freq': 10, 'lambda_l1': 2.922113643166589, 'lambda_l2': 0.3557432421836586}. Best is trial 13 with value: 0.06104673077431845.\n",
      "[I 2025-05-22 16:55:20,903] Trial 19 finished with value: 0.0617326820496063 and parameters: {'objective': 'huber', 'learning_rate': 0.0030736315225496588, 'num_leaves': 115, 'max_depth': 10, 'feature_fraction': 0.8609277881737216, 'bagging_fraction': 0.2886691002328429, 'bagging_freq': 7, 'lambda_l1': 0.46717640713643843, 'lambda_l2': 3.795924090850775}. Best is trial 13 with value: 0.06104673077431845.\n",
      "[I 2025-05-22 16:55:35,840] Trial 20 finished with value: 0.06298781282490572 and parameters: {'objective': 'huber', 'learning_rate': 0.008689415212513396, 'num_leaves': 79, 'max_depth': 18, 'feature_fraction': 0.7411200001520497, 'bagging_fraction': 0.48582646887878544, 'bagging_freq': 3, 'lambda_l1': 0.21090089380369087, 'lambda_l2': 0.42521826939132434}. Best is trial 13 with value: 0.06104673077431845.\n",
      "[I 2025-05-22 16:55:42,573] Trial 21 finished with value: 0.06146902724327978 and parameters: {'objective': 'huber', 'learning_rate': 0.0066019841205449984, 'num_leaves': 21, 'max_depth': 12, 'feature_fraction': 0.9119472927537201, 'bagging_fraction': 0.44130214865883266, 'bagging_freq': 5, 'lambda_l1': 0.37492404525640516, 'lambda_l2': 3.60708040464547}. Best is trial 13 with value: 0.06104673077431845.\n",
      "[I 2025-05-22 16:55:49,800] Trial 22 finished with value: 0.06173366915979907 and parameters: {'objective': 'huber', 'learning_rate': 0.0017208422182179762, 'num_leaves': 24, 'max_depth': 14, 'feature_fraction': 0.9265105211095026, 'bagging_fraction': 0.2691615579666049, 'bagging_freq': 5, 'lambda_l1': 0.4242541145354507, 'lambda_l2': 0.9217012749345825}. Best is trial 13 with value: 0.06104673077431845.\n",
      "[I 2025-05-22 16:55:56,071] Trial 23 finished with value: 0.06149383462143211 and parameters: {'objective': 'huber', 'learning_rate': 0.0035859990511843925, 'num_leaves': 58, 'max_depth': 6, 'feature_fraction': 0.9903934766320308, 'bagging_fraction': 0.3821877167751645, 'bagging_freq': 6, 'lambda_l1': 1.0244107594128773, 'lambda_l2': 5.151058070520803}. Best is trial 13 with value: 0.06104673077431845.\n",
      "[I 2025-05-22 16:56:04,749] Trial 24 finished with value: 0.06209861133231683 and parameters: {'objective': 'huber', 'learning_rate': 0.007075589681349554, 'num_leaves': 33, 'max_depth': 11, 'feature_fraction': 0.8126115115366512, 'bagging_fraction': 0.6536044418394109, 'bagging_freq': 4, 'lambda_l1': 0.1561259310307877, 'lambda_l2': 0.038595830189138404}. Best is trial 13 with value: 0.06104673077431845.\n",
      "[I 2025-05-22 16:56:16,991] Trial 25 finished with value: 0.061099373860686944 and parameters: {'objective': 'huber', 'learning_rate': 0.001966472491617146, 'num_leaves': 53, 'max_depth': 13, 'feature_fraction': 0.8818455181290701, 'bagging_fraction': 0.4773719870537415, 'bagging_freq': 5, 'lambda_l1': 0.2961848268827184, 'lambda_l2': 0.8436997853813217}. Best is trial 13 with value: 0.06104673077431845.\n",
      "[I 2025-05-22 16:56:29,186] Trial 26 finished with value: 0.06107505049732005 and parameters: {'objective': 'regression', 'learning_rate': 0.0018752483419282953, 'num_leaves': 53, 'max_depth': 18, 'feature_fraction': 0.8749679359192423, 'bagging_fraction': 0.4988286305349927, 'bagging_freq': 8, 'lambda_l1': 0.26622037596981346, 'lambda_l2': 0.5793168760224224}. Best is trial 13 with value: 0.06104673077431845.\n",
      "[I 2025-05-22 16:56:40,338] Trial 27 finished with value: 0.07957815491649015 and parameters: {'objective': 'regression', 'learning_rate': 0.001069699135957217, 'num_leaves': 67, 'max_depth': 22, 'feature_fraction': 0.4985914916205602, 'bagging_fraction': 0.5762042055872897, 'bagging_freq': 9, 'lambda_l1': 0.10647321013046263, 'lambda_l2': 2.478191092909503}. Best is trial 13 with value: 0.06104673077431845.\n",
      "[I 2025-05-22 16:56:44,630] Trial 28 finished with value: 0.06574709702195543 and parameters: {'objective': 'regression', 'learning_rate': 0.003324923210589114, 'num_leaves': 85, 'max_depth': 19, 'feature_fraction': 0.8007854781240631, 'bagging_fraction': 0.6881782528589601, 'bagging_freq': 8, 'lambda_l1': 8.214816729119441, 'lambda_l2': 0.06151304305834001}. Best is trial 13 with value: 0.06104673077431845.\n",
      "[I 2025-05-22 16:56:56,810] Trial 29 finished with value: 0.06385212552041176 and parameters: {'objective': 'regression', 'learning_rate': 0.013461388810142647, 'num_leaves': 52, 'max_depth': 23, 'feature_fraction': 0.9621716234850278, 'bagging_fraction': 0.4807381777687346, 'bagging_freq': 9, 'lambda_l1': 0.13841898089157953, 'lambda_l2': 0.20273141346025425}. Best is trial 13 with value: 0.06104673077431845.\n",
      "[I 2025-05-22 16:57:06,695] Trial 30 finished with value: 0.0618722757685215 and parameters: {'objective': 'regression', 'learning_rate': 0.0018869220675240912, 'num_leaves': 81, 'max_depth': 16, 'feature_fraction': 0.6814826622175048, 'bagging_fraction': 0.3223368472354094, 'bagging_freq': 7, 'lambda_l1': 0.2318354266586195, 'lambda_l2': 0.5903423966151584}. Best is trial 13 with value: 0.06104673077431845.\n",
      "[I 2025-05-22 16:57:17,103] Trial 31 finished with value: 0.06191209423457823 and parameters: {'objective': 'huber', 'learning_rate': 0.00218561259802427, 'num_leaves': 54, 'max_depth': 14, 'feature_fraction': 0.8642041517499803, 'bagging_fraction': 0.48900742471051295, 'bagging_freq': 6, 'lambda_l1': 0.2731933954097701, 'lambda_l2': 7.643037869083224}. Best is trial 13 with value: 0.06104673077431845.\n",
      "[I 2025-05-22 16:57:23,995] Trial 32 finished with value: 0.0662506771216053 and parameters: {'objective': 'regression', 'learning_rate': 0.001444579531292602, 'num_leaves': 69, 'max_depth': 17, 'feature_fraction': 0.8860983777755568, 'bagging_fraction': 0.2522584842932669, 'bagging_freq': 5, 'lambda_l1': 0.5606832850553178, 'lambda_l2': 0.7799633956966393}. Best is trial 13 with value: 0.06104673077431845.\n",
      "[I 2025-05-22 16:57:35,787] Trial 33 finished with value: 0.06111088415146269 and parameters: {'objective': 'huber', 'learning_rate': 0.0036502214271226766, 'num_leaves': 47, 'max_depth': 13, 'feature_fraction': 0.9391851073942953, 'bagging_fraction': 0.5918688205683329, 'bagging_freq': 4, 'lambda_l1': 0.3047313652984391, 'lambda_l2': 2.162915079066074}. Best is trial 13 with value: 0.06104673077431845.\n",
      "[I 2025-05-22 16:57:45,355] Trial 34 finished with value: 0.06263688112147925 and parameters: {'objective': 'regression', 'learning_rate': 0.0018917356556914077, 'num_leaves': 39, 'max_depth': 15, 'feature_fraction': 0.7743200593068456, 'bagging_fraction': 0.509986286107519, 'bagging_freq': 8, 'lambda_l1': 0.992699744007251, 'lambda_l2': 0.12743246273774508}. Best is trial 13 with value: 0.06104673077431845.\n",
      "[I 2025-05-22 16:57:50,587] Trial 35 finished with value: 0.09207528300490665 and parameters: {'objective': 'huber', 'learning_rate': 0.0011625155277886542, 'num_leaves': 32, 'max_depth': 9, 'feature_fraction': 0.35227766003584193, 'bagging_fraction': 0.19024007602205506, 'bagging_freq': 3, 'lambda_l1': 0.17243621579414475, 'lambda_l2': 5.375393616170636}. Best is trial 13 with value: 0.06104673077431845.\n",
      "[I 2025-05-22 16:58:02,521] Trial 36 finished with value: 0.061508189311318 and parameters: {'objective': 'regression', 'learning_rate': 0.0028386576089597907, 'num_leaves': 57, 'max_depth': 23, 'feature_fraction': 0.8507089090336948, 'bagging_fraction': 0.445083158729565, 'bagging_freq': 6, 'lambda_l1': 0.5711370337907621, 'lambda_l2': 0.23784447890672894}. Best is trial 13 with value: 0.06104673077431845.\n",
      "[I 2025-05-22 16:58:13,098] Trial 37 finished with value: 0.06636936282346681 and parameters: {'objective': 'huber', 'learning_rate': 0.004024011455692428, 'num_leaves': 75, 'max_depth': 20, 'feature_fraction': 0.5987990525851707, 'bagging_fraction': 0.3578748799172407, 'bagging_freq': 7, 'lambda_l1': 0.33544724645312174, 'lambda_l2': 0.03187986510700978}. Best is trial 13 with value: 0.06104673077431845.\n",
      "[I 2025-05-22 16:58:22,484] Trial 38 finished with value: 0.07961919016758848 and parameters: {'objective': 'huber', 'learning_rate': 0.0013359772209554466, 'num_leaves': 92, 'max_depth': 13, 'feature_fraction': 0.5243349720993883, 'bagging_fraction': 0.3948186280034497, 'bagging_freq': 9, 'lambda_l1': 0.2402505478705118, 'lambda_l2': 0.5801451546567337}. Best is trial 13 with value: 0.06104673077431845.\n",
      "[I 2025-05-22 16:58:29,378] Trial 39 finished with value: 0.061621767029455245 and parameters: {'objective': 'regression', 'learning_rate': 0.006148139956843978, 'num_leaves': 62, 'max_depth': 11, 'feature_fraction': 0.9508318984052168, 'bagging_fraction': 0.21364725362427783, 'bagging_freq': 2, 'lambda_l1': 0.9296330087914424, 'lambda_l2': 2.7859337336958006}. Best is trial 13 with value: 0.06104673077431845.\n",
      "[I 2025-05-22 16:58:40,966] Trial 40 finished with value: 0.06973864199255045 and parameters: {'objective': 'huber', 'learning_rate': 0.001749105991996105, 'num_leaves': 39, 'max_depth': 15, 'feature_fraction': 0.4207375088541735, 'bagging_fraction': 0.7202233553703965, 'bagging_freq': 5, 'lambda_l1': 0.1338132702682028, 'lambda_l2': 1.207883887389152}. Best is trial 13 with value: 0.06104673077431845.\n",
      "[I 2025-05-22 16:58:54,666] Trial 41 finished with value: 0.06117456980477622 and parameters: {'objective': 'huber', 'learning_rate': 0.003758572568535801, 'num_leaves': 47, 'max_depth': 13, 'feature_fraction': 0.9064060895314995, 'bagging_fraction': 0.6090598816377578, 'bagging_freq': 4, 'lambda_l1': 0.26745240173414575, 'lambda_l2': 2.0803540243243126}. Best is trial 13 with value: 0.06104673077431845.\n",
      "[I 2025-05-22 16:59:09,049] Trial 42 finished with value: 0.06115954797848298 and parameters: {'objective': 'huber', 'learning_rate': 0.0020729256512216905, 'num_leaves': 50, 'max_depth': 12, 'feature_fraction': 0.9458624423771679, 'bagging_fraction': 0.5946942715456056, 'bagging_freq': 4, 'lambda_l1': 0.3151044027643237, 'lambda_l2': 5.766765307113907}. Best is trial 13 with value: 0.06104673077431845.\n",
      "[I 2025-05-22 16:59:20,748] Trial 43 finished with value: 0.06278957891505536 and parameters: {'objective': 'huber', 'learning_rate': 0.01041244402150793, 'num_leaves': 43, 'max_depth': 9, 'feature_fraction': 0.7246638185448324, 'bagging_fraction': 0.529301937291809, 'bagging_freq': 6, 'lambda_l1': 0.17187659091471386, 'lambda_l2': 1.79628625033267}. Best is trial 13 with value: 0.06104673077431845.\n",
      "[I 2025-05-22 16:59:35,165] Trial 44 finished with value: 0.06096460185249534 and parameters: {'objective': 'huber', 'learning_rate': 0.0025001927494531753, 'num_leaves': 69, 'max_depth': 13, 'feature_fraction': 0.9988962565322786, 'bagging_fraction': 0.44720354380803146, 'bagging_freq': 3, 'lambda_l1': 0.1964974131160262, 'lambda_l2': 9.710427483733186}. Best is trial 44 with value: 0.06096460185249534.\n",
      "[I 2025-05-22 16:59:50,587] Trial 45 finished with value: 0.06629792072561716 and parameters: {'objective': 'huber', 'learning_rate': 0.035773114540365275, 'num_leaves': 150, 'max_depth': 10, 'feature_fraction': 0.9912771551027336, 'bagging_fraction': 0.46122933074635364, 'bagging_freq': 2, 'lambda_l1': 0.10084315081824688, 'lambda_l2': 7.852509479696206}. Best is trial 44 with value: 0.06096460185249534.\n",
      "[I 2025-05-22 16:59:57,899] Trial 46 finished with value: 0.076100010869379 and parameters: {'objective': 'regression', 'learning_rate': 0.0029162106367526417, 'num_leaves': 72, 'max_depth': 17, 'feature_fraction': 0.23683389775706948, 'bagging_fraction': 0.3274611177156414, 'bagging_freq': 3, 'lambda_l1': 0.21375715685392227, 'lambda_l2': 3.2802563496738903}. Best is trial 44 with value: 0.06096460185249534.\n",
      "[I 2025-05-22 17:00:05,964] Trial 47 finished with value: 0.0634027978455936 and parameters: {'objective': 'huber', 'learning_rate': 0.0015711524058137827, 'num_leaves': 60, 'max_depth': 14, 'feature_fraction': 0.8865262522599039, 'bagging_fraction': 0.4166316071870802, 'bagging_freq': 1, 'lambda_l1': 1.9089098882768603, 'lambda_l2': 6.775309555497879}. Best is trial 44 with value: 0.06096460185249534.\n",
      "[I 2025-05-22 17:00:19,848] Trial 48 finished with value: 0.06150847228099236 and parameters: {'objective': 'huber', 'learning_rate': 0.00474336166089569, 'num_leaves': 80, 'max_depth': 24, 'feature_fraction': 0.8263210825654951, 'bagging_fraction': 0.5591256981393011, 'bagging_freq': 7, 'lambda_l1': 0.547892241269584, 'lambda_l2': 0.07664163892094826}. Best is trial 44 with value: 0.06096460185249534.\n",
      "[I 2025-05-22 17:00:28,574] Trial 49 finished with value: 0.061885813074722254 and parameters: {'objective': 'huber', 'learning_rate': 0.0023525088548564995, 'num_leaves': 70, 'max_depth': 7, 'feature_fraction': 0.9661466215332719, 'bagging_fraction': 0.3576827448599164, 'bagging_freq': 8, 'lambda_l1': 0.42766235901778155, 'lambda_l2': 9.296999433095364}. Best is trial 44 with value: 0.06096460185249534.\n",
      "[I 2025-05-22 17:00:39,137] Trial 50 finished with value: 0.06554035409322528 and parameters: {'objective': 'regression', 'learning_rate': 0.08682978236435261, 'num_leaves': 103, 'max_depth': 21, 'feature_fraction': 0.8895253066444526, 'bagging_fraction': 0.43132825385302864, 'bagging_freq': 5, 'lambda_l1': 0.7320494308753622, 'lambda_l2': 1.4722365529285282}. Best is trial 44 with value: 0.06096460185249534.\n",
      "[I 2025-05-22 17:00:53,381] Trial 51 finished with value: 0.060934420991513895 and parameters: {'objective': 'huber', 'learning_rate': 0.002595984207645691, 'num_leaves': 54, 'max_depth': 13, 'feature_fraction': 0.9302909611117609, 'bagging_fraction': 0.5080498347915076, 'bagging_freq': 4, 'lambda_l1': 0.31765609171689957, 'lambda_l2': 2.6170255276923085}. Best is trial 51 with value: 0.060934420991513895.\n",
      "[I 2025-05-22 17:01:07,447] Trial 52 finished with value: 0.06098553256957943 and parameters: {'objective': 'huber', 'learning_rate': 0.0025035101883180157, 'num_leaves': 54, 'max_depth': 10, 'feature_fraction': 0.9996530125273271, 'bagging_fraction': 0.5062786782214668, 'bagging_freq': 3, 'lambda_l1': 0.3551286295169378, 'lambda_l2': 4.060406761308423}. Best is trial 51 with value: 0.060934420991513895.\n",
      "[I 2025-05-22 17:01:17,990] Trial 53 finished with value: 0.060989999927098526 and parameters: {'objective': 'huber', 'learning_rate': 0.002605267589783296, 'num_leaves': 64, 'max_depth': 8, 'feature_fraction': 0.99767958900226, 'bagging_fraction': 0.5237622957222311, 'bagging_freq': 3, 'lambda_l1': 0.36491773753455253, 'lambda_l2': 4.533639774557961}. Best is trial 51 with value: 0.060934420991513895.\n",
      "[I 2025-05-22 17:01:28,287] Trial 54 finished with value: 0.06114653352317344 and parameters: {'objective': 'huber', 'learning_rate': 0.005444284684241144, 'num_leaves': 64, 'max_depth': 8, 'feature_fraction': 0.9861322252054248, 'bagging_fraction': 0.5394248379807285, 'bagging_freq': 3, 'lambda_l1': 0.375824266425581, 'lambda_l2': 4.643412936911735}. Best is trial 51 with value: 0.060934420991513895.\n",
      "[I 2025-05-22 17:01:37,929] Trial 55 finished with value: 0.06105051861246895 and parameters: {'objective': 'huber', 'learning_rate': 0.00266181683578465, 'num_leaves': 77, 'max_depth': 10, 'feature_fraction': 0.9320276964704864, 'bagging_fraction': 0.39448662373231586, 'bagging_freq': 2, 'lambda_l1': 0.47011142918254323, 'lambda_l2': 3.8477208994650067}. Best is trial 51 with value: 0.060934420991513895.\n",
      "[I 2025-05-22 17:01:50,849] Trial 56 finished with value: 0.061046719696160566 and parameters: {'objective': 'huber', 'learning_rate': 0.0031208842540052413, 'num_leaves': 75, 'max_depth': 10, 'feature_fraction': 0.9321266155419359, 'bagging_fraction': 0.5181066369861287, 'bagging_freq': 2, 'lambda_l1': 0.615314338261017, 'lambda_l2': 3.3591932396382878}. Best is trial 51 with value: 0.060934420991513895.\n",
      "[I 2025-05-22 17:01:56,473] Trial 57 finished with value: 0.06153500633069577 and parameters: {'objective': 'huber', 'learning_rate': 0.004224306844835354, 'num_leaves': 86, 'max_depth': 4, 'feature_fraction': 0.9550132968417456, 'bagging_fraction': 0.8001735736645379, 'bagging_freq': 1, 'lambda_l1': 0.6396369679524871, 'lambda_l2': 3.0642632317490155}. Best is trial 51 with value: 0.060934420991513895.\n",
      "[I 2025-05-22 17:02:08,246] Trial 58 finished with value: 0.060911479854265725 and parameters: {'objective': 'huber', 'learning_rate': 0.0033048766331007858, 'num_leaves': 66, 'max_depth': 7, 'feature_fraction': 0.9079496381758568, 'bagging_fraction': 0.6417624687454857, 'bagging_freq': 3, 'lambda_l1': 0.188071055234358, 'lambda_l2': 5.886294302205324}. Best is trial 58 with value: 0.060911479854265725.\n",
      "[I 2025-05-22 17:02:17,502] Trial 59 finished with value: 0.06131189904727323 and parameters: {'objective': 'huber', 'learning_rate': 0.0032033533093891176, 'num_leaves': 57, 'max_depth': 6, 'feature_fraction': 0.8333072588078649, 'bagging_fraction': 0.6551423076229345, 'bagging_freq': 2, 'lambda_l1': 0.17846890015557898, 'lambda_l2': 5.406088614930291}. Best is trial 58 with value: 0.060911479854265725.\n",
      "[I 2025-05-22 17:02:29,767] Trial 60 finished with value: 0.06135115174094211 and parameters: {'objective': 'huber', 'learning_rate': 0.00863182358913898, 'num_leaves': 65, 'max_depth': 8, 'feature_fraction': 0.9150692851915608, 'bagging_fraction': 0.6348482238186117, 'bagging_freq': 2, 'lambda_l1': 0.8427483793177378, 'lambda_l2': 0.003982077722926822}. Best is trial 58 with value: 0.060911479854265725.\n",
      "[I 2025-05-22 17:02:41,378] Trial 61 finished with value: 0.061253168054266546 and parameters: {'objective': 'huber', 'learning_rate': 0.002298472170380415, 'num_leaves': 70, 'max_depth': 7, 'feature_fraction': 0.9996706589585945, 'bagging_fraction': 0.5157864291111612, 'bagging_freq': 3, 'lambda_l1': 0.19293297784181346, 'lambda_l2': 7.019116101683125}. Best is trial 58 with value: 0.060911479854265725.\n",
      "[I 2025-05-22 17:02:57,960] Trial 62 finished with value: 0.060882611811213315 and parameters: {'objective': 'huber', 'learning_rate': 0.003149141542114454, 'num_leaves': 84, 'max_depth': 11, 'feature_fraction': 0.9662521014818152, 'bagging_fraction': 0.5658652922842053, 'bagging_freq': 3, 'lambda_l1': 0.14944703407673246, 'lambda_l2': 4.358730279865649}. Best is trial 62 with value: 0.060882611811213315.\n",
      "[I 2025-05-22 17:03:14,770] Trial 63 finished with value: 0.06120189372212011 and parameters: {'objective': 'huber', 'learning_rate': 0.0043033384836611566, 'num_leaves': 86, 'max_depth': 11, 'feature_fraction': 0.9248342884657529, 'bagging_fraction': 0.5599496989983977, 'bagging_freq': 3, 'lambda_l1': 0.15097437145630982, 'lambda_l2': 2.8239526117376794}. Best is trial 62 with value: 0.060882611811213315.\n",
      "[I 2025-05-22 17:03:34,067] Trial 64 finished with value: 0.06103013843655537 and parameters: {'objective': 'huber', 'learning_rate': 0.0030656721199700506, 'num_leaves': 92, 'max_depth': 12, 'feature_fraction': 0.9666636980811993, 'bagging_fraction': 0.6904408438959426, 'bagging_freq': 2, 'lambda_l1': 0.22944274383170352, 'lambda_l2': 1.634911962372248}. Best is trial 62 with value: 0.060882611811213315.\n",
      "[I 2025-05-22 17:03:52,895] Trial 65 finished with value: 0.061807014895824484 and parameters: {'objective': 'huber', 'learning_rate': 0.005467398591824772, 'num_leaves': 96, 'max_depth': 12, 'feature_fraction': 0.9659672001227595, 'bagging_fraction': 0.7291083330937366, 'bagging_freq': 3, 'lambda_l1': 0.12264704880254472, 'lambda_l2': 1.5814443655804828}. Best is trial 62 with value: 0.060882611811213315.\n",
      "[I 2025-05-22 17:04:07,872] Trial 66 finished with value: 0.06447032321164378 and parameters: {'objective': 'huber', 'learning_rate': 0.0012645439609179118, 'num_leaves': 99, 'max_depth': 9, 'feature_fraction': 0.9015152016873769, 'bagging_fraction': 0.696471706864091, 'bagging_freq': 4, 'lambda_l1': 0.2129877525202261, 'lambda_l2': 4.369590037527077}. Best is trial 62 with value: 0.060882611811213315.\n",
      "[I 2025-05-22 17:04:17,229] Trial 67 finished with value: 0.06135113964971376 and parameters: {'objective': 'huber', 'learning_rate': 0.0016332564229025281, 'num_leaves': 94, 'max_depth': 6, 'feature_fraction': 0.9638855692458698, 'bagging_fraction': 0.7777514395528596, 'bagging_freq': 3, 'lambda_l1': 0.24056891744987344, 'lambda_l2': 9.623507535567683}. Best is trial 62 with value: 0.060882611811213315.\n",
      "[I 2025-05-22 17:04:36,230] Trial 68 finished with value: 0.06167046579836123 and parameters: {'objective': 'huber', 'learning_rate': 0.0034550082339957528, 'num_leaves': 104, 'max_depth': 12, 'feature_fraction': 0.7771336967701896, 'bagging_fraction': 0.9858071540353004, 'bagging_freq': 2, 'lambda_l1': 0.1471670536023543, 'lambda_l2': 2.504490015971053}. Best is trial 62 with value: 0.060882611811213315.\n",
      "[I 2025-05-22 17:04:47,219] Trial 69 finished with value: 0.06090291245546135 and parameters: {'objective': 'huber', 'learning_rate': 0.0026360477201267138, 'num_leaves': 113, 'max_depth': 7, 'feature_fraction': 0.9954196499547702, 'bagging_fraction': 0.6235474506444646, 'bagging_freq': 3, 'lambda_l1': 0.1249761047386702, 'lambda_l2': 6.666086741914597}. Best is trial 62 with value: 0.060882611811213315.\n",
      "[I 2025-05-22 17:04:53,696] Trial 70 finished with value: 0.06117673978554271 and parameters: {'objective': 'huber', 'learning_rate': 0.0026466080180646825, 'num_leaves': 80, 'max_depth': 5, 'feature_fraction': 0.9908958704986901, 'bagging_fraction': 0.5690860133420136, 'bagging_freq': 4, 'lambda_l1': 0.1150544442260733, 'lambda_l2': 6.144307612896866}. Best is trial 62 with value: 0.060882611811213315.\n",
      "[I 2025-05-22 17:05:07,063] Trial 71 finished with value: 0.06103752453710261 and parameters: {'objective': 'huber', 'learning_rate': 0.0022486892344970376, 'num_leaves': 138, 'max_depth': 8, 'feature_fraction': 0.998879381509986, 'bagging_fraction': 0.6624268939130686, 'bagging_freq': 3, 'lambda_l1': 0.16609261414950452, 'lambda_l2': 3.8591126308465746}. Best is trial 62 with value: 0.060882611811213315.\n",
      "[I 2025-05-22 17:05:17,293] Trial 72 finished with value: 0.06091165636910749 and parameters: {'objective': 'huber', 'learning_rate': 0.0029728257343342203, 'num_leaves': 127, 'max_depth': 7, 'feature_fraction': 0.949376791846893, 'bagging_fraction': 0.619469647536154, 'bagging_freq': 3, 'lambda_l1': 0.19703265374696632, 'lambda_l2': 6.350557647975447}. Best is trial 62 with value: 0.060882611811213315.\n",
      "[I 2025-05-22 17:05:23,372] Trial 73 finished with value: 0.06136286129484725 and parameters: {'objective': 'huber', 'learning_rate': 0.003689320217343427, 'num_leaves': 110, 'max_depth': 5, 'feature_fraction': 0.8591450562067517, 'bagging_fraction': 0.6210761548467312, 'bagging_freq': 4, 'lambda_l1': 0.12685430131243566, 'lambda_l2': 6.929856612530934}. Best is trial 62 with value: 0.060882611811213315.\n",
      "[I 2025-05-22 17:05:33,582] Trial 74 finished with value: 0.061244634338122585 and parameters: {'objective': 'huber', 'learning_rate': 0.002093561372220847, 'num_leaves': 125, 'max_depth': 7, 'feature_fraction': 0.944412188239814, 'bagging_fraction': 0.5917094349514682, 'bagging_freq': 3, 'lambda_l1': 0.1861837972142426, 'lambda_l2': 9.913483972085105}. Best is trial 62 with value: 0.060882611811213315.\n",
      "[I 2025-05-22 17:05:37,244] Trial 75 finished with value: 0.06282931302800357 and parameters: {'objective': 'huber', 'learning_rate': 0.0025778256290913534, 'num_leaves': 128, 'max_depth': 3, 'feature_fraction': 0.9120037429967172, 'bagging_fraction': 0.467016891666721, 'bagging_freq': 4, 'lambda_l1': 0.283917036769429, 'lambda_l2': 4.726133908876382}. Best is trial 62 with value: 0.060882611811213315.\n",
      "[I 2025-05-22 17:05:47,175] Trial 76 finished with value: 0.06119977157813043 and parameters: {'objective': 'huber', 'learning_rate': 0.004525718995585656, 'num_leaves': 123, 'max_depth': 7, 'feature_fraction': 0.9702914034893918, 'bagging_fraction': 0.6303345989075693, 'bagging_freq': 3, 'lambda_l1': 0.14413919743124703, 'lambda_l2': 5.5928582463351875}. Best is trial 62 with value: 0.060882611811213315.\n",
      "[I 2025-05-22 17:06:01,050] Trial 77 finished with value: 0.060897666760276484 and parameters: {'objective': 'huber', 'learning_rate': 0.0028657438775562694, 'num_leaves': 132, 'max_depth': 9, 'feature_fraction': 0.9339993110779912, 'bagging_fraction': 0.6735794402392599, 'bagging_freq': 4, 'lambda_l1': 0.20440240241074978, 'lambda_l2': 2.4316388498763204}. Best is trial 62 with value: 0.060882611811213315.\n",
      "[I 2025-05-22 17:06:14,482] Trial 78 finished with value: 0.06511151645856782 and parameters: {'objective': 'huber', 'learning_rate': 0.020157276490485897, 'num_leaves': 133, 'max_depth': 9, 'feature_fraction': 0.79407024321695, 'bagging_fraction': 0.6111244166197644, 'bagging_freq': 4, 'lambda_l1': 0.11049421897730778, 'lambda_l2': 2.3631249383375468}. Best is trial 62 with value: 0.060882611811213315.\n",
      "[I 2025-05-22 17:06:33,217] Trial 79 finished with value: 0.06168938001370542 and parameters: {'objective': 'huber', 'learning_rate': 0.0039516352464829705, 'num_leaves': 119, 'max_depth': 11, 'feature_fraction': 0.8427560648913159, 'bagging_fraction': 0.667042962067743, 'bagging_freq': 4, 'lambda_l1': 0.20149222512748022, 'lambda_l2': 1.111481165114156}. Best is trial 62 with value: 0.060882611811213315.\n",
      "[I 2025-05-22 17:06:53,299] Trial 80 finished with value: 0.06101181376931057 and parameters: {'objective': 'huber', 'learning_rate': 0.0017455261642581135, 'num_leaves': 143, 'max_depth': 10, 'feature_fraction': 0.8755074673083653, 'bagging_fraction': 0.8548484724157959, 'bagging_freq': 3, 'lambda_l1': 0.24842617667108924, 'lambda_l2': 7.040663917588402}. Best is trial 62 with value: 0.060882611811213315.\n",
      "[I 2025-05-22 17:07:02,404] Trial 81 finished with value: 0.06103748742765389 and parameters: {'objective': 'huber', 'learning_rate': 0.002837326405645799, 'num_leaves': 133, 'max_depth': 6, 'feature_fraction': 0.9345260911216164, 'bagging_fraction': 0.5777199812967976, 'bagging_freq': 3, 'lambda_l1': 0.340026212488851, 'lambda_l2': 4.194455037302216}. Best is trial 62 with value: 0.060882611811213315.\n",
      "[I 2025-05-22 17:07:17,683] Trial 82 finished with value: 0.06088845189977321 and parameters: {'objective': 'huber', 'learning_rate': 0.0033550531231043186, 'num_leaves': 112, 'max_depth': 8, 'feature_fraction': 0.9086443802891452, 'bagging_fraction': 0.7456444895791858, 'bagging_freq': 3, 'lambda_l1': 0.16671607358947083, 'lambda_l2': 1.9906833557934989}. Best is trial 62 with value: 0.060882611811213315.\n",
      "[I 2025-05-22 17:07:34,454] Trial 83 finished with value: 0.060907383959245574 and parameters: {'objective': 'huber', 'learning_rate': 0.0032554945479359968, 'num_leaves': 115, 'max_depth': 9, 'feature_fraction': 0.8971280230350114, 'bagging_fraction': 0.7380669325600338, 'bagging_freq': 3, 'lambda_l1': 0.1632556639967294, 'lambda_l2': 2.288956392118232}. Best is trial 62 with value: 0.060882611811213315.\n",
      "[I 2025-05-22 17:07:48,183] Trial 84 finished with value: 0.06154864734592582 and parameters: {'objective': 'huber', 'learning_rate': 0.006282347300731902, 'num_leaves': 108, 'max_depth': 8, 'feature_fraction': 0.900950847735055, 'bagging_fraction': 0.7227280121194225, 'bagging_freq': 4, 'lambda_l1': 0.1600284259271919, 'lambda_l2': 2.1230782880249306}. Best is trial 62 with value: 0.060882611811213315.\n",
      "[I 2025-05-22 17:07:55,954] Trial 85 finished with value: 0.061354423209400086 and parameters: {'objective': 'huber', 'learning_rate': 0.0033895684592415, 'num_leaves': 116, 'max_depth': 5, 'feature_fraction': 0.820778190504579, 'bagging_fraction': 0.7559626827181891, 'bagging_freq': 2, 'lambda_l1': 0.1269600183444304, 'lambda_l2': 1.020062951208351}. Best is trial 62 with value: 0.060882611811213315.\n",
      "[I 2025-05-22 17:08:11,635] Trial 86 finished with value: 0.06189709442969669 and parameters: {'objective': 'huber', 'learning_rate': 0.004942036005156145, 'num_leaves': 120, 'max_depth': 9, 'feature_fraction': 0.8642455770178679, 'bagging_fraction': 0.765690672930576, 'bagging_freq': 4, 'lambda_l1': 0.18824716338962594, 'lambda_l2': 1.4220119645202551}. Best is trial 62 with value: 0.060882611811213315.\n",
      "[I 2025-05-22 17:08:25,882] Trial 87 finished with value: 0.06099389855433555 and parameters: {'objective': 'huber', 'learning_rate': 0.002016265581373017, 'num_leaves': 117, 'max_depth': 7, 'feature_fraction': 0.9163273269151687, 'bagging_fraction': 0.705223029826307, 'bagging_freq': 3, 'lambda_l1': 0.13766908777012843, 'lambda_l2': 2.7780165123553275}. Best is trial 62 with value: 0.060882611811213315.\n",
      "[I 2025-05-22 17:08:44,770] Trial 88 finished with value: 0.061529275110065264 and parameters: {'objective': 'huber', 'learning_rate': 0.003055459484916869, 'num_leaves': 113, 'max_depth': 11, 'feature_fraction': 0.6578259759425162, 'bagging_fraction': 0.6732681505023095, 'bagging_freq': 2, 'lambda_l1': 0.16662595683562592, 'lambda_l2': 0.7361876414714587}. Best is trial 62 with value: 0.060882611811213315.\n",
      "[I 2025-05-22 17:09:01,424] Trial 89 finished with value: 0.061160819725681506 and parameters: {'objective': 'huber', 'learning_rate': 0.003827474850917473, 'num_leaves': 129, 'max_depth': 9, 'feature_fraction': 0.9451270809384964, 'bagging_fraction': 0.738961160935165, 'bagging_freq': 3, 'lambda_l1': 0.10254740911036445, 'lambda_l2': 1.912445843945132}. Best is trial 62 with value: 0.060882611811213315.\n",
      "[I 2025-05-22 17:09:11,300] Trial 90 finished with value: 0.07639477422629407 and parameters: {'objective': 'huber', 'learning_rate': 0.0033756164501401536, 'num_leaves': 138, 'max_depth': 14, 'feature_fraction': 0.11749301748575919, 'bagging_fraction': 0.8082876034484716, 'bagging_freq': 4, 'lambda_l1': 0.21670805252057954, 'lambda_l2': 0.3808305103227163}. Best is trial 62 with value: 0.060882611811213315.\n",
      "[I 2025-05-22 17:09:28,783] Trial 91 finished with value: 0.06088892830995189 and parameters: {'objective': 'huber', 'learning_rate': 0.0027527676553428283, 'num_leaves': 125, 'max_depth': 10, 'feature_fraction': 0.8888454440674336, 'bagging_fraction': 0.6379585483099777, 'bagging_freq': 3, 'lambda_l1': 0.15103924021513498, 'lambda_l2': 3.6568282340577323}. Best is trial 62 with value: 0.060882611811213315.\n",
      "[I 2025-05-22 17:09:43,532] Trial 92 finished with value: 0.06099125679678893 and parameters: {'objective': 'huber', 'learning_rate': 0.002381673636845705, 'num_leaves': 124, 'max_depth': 8, 'feature_fraction': 0.8851205713145334, 'bagging_fraction': 0.6397829930753334, 'bagging_freq': 3, 'lambda_l1': 0.1511392858924869, 'lambda_l2': 3.301582900745767}. Best is trial 62 with value: 0.060882611811213315.\n",
      "[I 2025-05-22 17:09:51,786] Trial 93 finished with value: 0.06096831680551209 and parameters: {'objective': 'huber', 'learning_rate': 0.0028168218272862436, 'num_leaves': 107, 'max_depth': 6, 'feature_fraction': 0.9000757862105111, 'bagging_fraction': 0.677949068653063, 'bagging_freq': 3, 'lambda_l1': 0.11655623234668606, 'lambda_l2': 6.352754923308735}. Best is trial 62 with value: 0.060882611811213315.\n",
      "[I 2025-05-22 17:09:58,082] Trial 94 finished with value: 0.06435213991634303 and parameters: {'objective': 'huber', 'learning_rate': 0.0021022307147638836, 'num_leaves': 148, 'max_depth': 10, 'feature_fraction': 0.948573114998323, 'bagging_fraction': 0.5941849867267296, 'bagging_freq': 2, 'lambda_l1': 3.6946891624051816, 'lambda_l2': 8.46937676016188}. Best is trial 62 with value: 0.060882611811213315.\n",
      "[I 2025-05-22 17:10:19,356] Trial 95 finished with value: 0.06097217720232247 and parameters: {'objective': 'huber', 'learning_rate': 0.003007147899825059, 'num_leaves': 127, 'max_depth': 13, 'feature_fraction': 0.9709563474983169, 'bagging_fraction': 0.7094388920985116, 'bagging_freq': 4, 'lambda_l1': 0.1889717070036649, 'lambda_l2': 5.380823104825113}. Best is trial 62 with value: 0.060882611811213315.\n",
      "[I 2025-05-22 17:10:33,747] Trial 96 finished with value: 0.061485869693323036 and parameters: {'objective': 'huber', 'learning_rate': 0.004065626918122668, 'num_leaves': 122, 'max_depth': 8, 'feature_fraction': 0.8509882029275326, 'bagging_fraction': 0.789937032494214, 'bagging_freq': 3, 'lambda_l1': 0.132244340043895, 'lambda_l2': 2.4404912269295234}. Best is trial 62 with value: 0.060882611811213315.\n",
      "[I 2025-05-22 17:10:55,054] Trial 97 finished with value: 0.060913469360336606 and parameters: {'objective': 'huber', 'learning_rate': 0.0018495769165614798, 'num_leaves': 113, 'max_depth': 11, 'feature_fraction': 0.9258276505418535, 'bagging_fraction': 0.7421670495486902, 'bagging_freq': 2, 'lambda_l1': 0.16837851135509846, 'lambda_l2': 0.16309656622835067}. Best is trial 62 with value: 0.060882611811213315.\n",
      "[I 2025-05-22 17:11:19,153] Trial 98 finished with value: 0.06369630849747676 and parameters: {'objective': 'huber', 'learning_rate': 0.001463599144039373, 'num_leaves': 112, 'max_depth': 11, 'feature_fraction': 0.920710245194143, 'bagging_fraction': 0.8258508841352892, 'bagging_freq': 1, 'lambda_l1': 0.1636444156947242, 'lambda_l2': 0.19355819886685174}. Best is trial 62 with value: 0.060882611811213315.\n",
      "[I 2025-05-22 17:11:32,503] Trial 99 finished with value: 0.06980245705644697 and parameters: {'objective': 'huber', 'learning_rate': 0.0018595606743151778, 'num_leaves': 118, 'max_depth': 9, 'feature_fraction': 0.5659262996519275, 'bagging_fraction': 0.7375166246304297, 'bagging_freq': 2, 'lambda_l1': 0.14431241022901056, 'lambda_l2': 3.565216160243821}. Best is trial 62 with value: 0.060882611811213315.\n"
     ]
    },
    {
     "name": "stdout",
     "output_type": "stream",
     "text": [
      "Best trial:\n",
      "  MAE:  0.060882611811213315\n",
      "  Best hyperparameters:  {'objective': 'huber', 'learning_rate': 0.003149141542114454, 'num_leaves': 84, 'max_depth': 11, 'feature_fraction': 0.9662521014818152, 'bagging_fraction': 0.5658652922842053, 'bagging_freq': 3, 'lambda_l1': 0.14944703407673246, 'lambda_l2': 4.358730279865649}\n"
     ]
    }
   ],
   "source": [
    "def objective(trial):\n",
    "    # Choose between two objectives: standard regression or huber loss for robustness.\n",
    "    objective_choice = trial.suggest_categorical('objective', ['regression', 'huber'])\n",
    "    \n",
    "    param = {\n",
    "        'objective': objective_choice,\n",
    "        'metric': 'mae',\n",
    "        'learning_rate': round(trial.suggest_float('learning_rate', 0.001, 0.1, log=True),3),\n",
    "        'num_leaves': trial.suggest_int('num_leaves', 20, 150),\n",
    "        'max_depth': trial.suggest_int('max_depth', 3, 25),\n",
    "        'min_data_in_leaf': 25,\n",
    "        'feature_fraction': round(trial.suggest_float('feature_fraction', 0.1, 1.0),3),\n",
    "        'bagging_fraction': round(trial.suggest_float('bagging_fraction', 0.1, 1.0),3),\n",
    "        'bagging_freq': trial.suggest_int('bagging_freq', 1, 10),\n",
    "        'lambda_l1': round(trial.suggest_float('lambda_l1', 0.1, 10, log=True),3),\n",
    "        'lambda_l2': round(trial.suggest_float('lambda_l2', 1e-3, 10.0, log=True),3),\n",
    "        'feature_pre_filter': False,\n",
    "        'verbose': -1,\n",
    "    }\n",
    "\n",
    "    # add constant params\n",
    "    #param['feature_contri']= [1.0, 1.0, 1.0, 0.5],\n",
    "    param['monotone_constraints']        = '1,0,0,0'\n",
    "    param['monotone_constraints_method'] = 'intermediate'\n",
    "    \n",
    "    # Bin target into quantiles for stratification\n",
    "    y_bins = pd.qcut(y_train_val, q=10, labels=False, duplicates='drop')\n",
    "\n",
    "    skf = StratifiedKFold(n_splits=5, shuffle=True, random_state=42)\n",
    "    mae_scores = []\n",
    "    \n",
    "    for train_idx, valid_idx in skf.split(X_train_val, y_bins):\n",
    "        X_train_fold, X_valid_fold = X_train_val.iloc[train_idx], X_train_val.iloc[valid_idx]\n",
    "        y_train_fold, y_valid_fold = y_train_val.iloc[train_idx], y_train_val.iloc[valid_idx]\n",
    "\n",
    "        lgb_train = lgb.Dataset(X_train_fold, y_train_fold)\n",
    "        lgb_valid = lgb.Dataset(X_valid_fold, y_valid_fold, reference=lgb_train)\n",
    "\n",
    "        gbm = lgb.train(\n",
    "            param,\n",
    "            lgb_train,\n",
    "            num_boost_round=2500,\n",
    "            valid_sets=[lgb_valid]\n",
    "        )\n",
    "\n",
    "        preds = gbm.predict(X_valid_fold, num_iteration=gbm.best_iteration)\n",
    "        fold_mae = mean_absolute_error(y_valid_fold, preds)\n",
    "        mae_scores.append(fold_mae)\n",
    "\n",
    "    return np.mean(mae_scores)\n",
    "\n",
    "# Create and run the study\n",
    "study = optuna.create_study(direction=\"minimize\")\n",
    "study.optimize(objective, n_trials=100)\n",
    "\n",
    "# Display the best trial results\n",
    "print(\"Best trial:\")\n",
    "print(\"  MAE: \", study.best_trial.value)\n",
    "print(\"  Best hyperparameters: \", study.best_trial.params)"
   ]
  },
  {
   "cell_type": "code",
   "execution_count": 44,
   "id": "217622fb-3fe4-4d22-9956-8ae7abbf24eb",
   "metadata": {},
   "outputs": [],
   "source": [
    "# Retrieve the best hyperparameters from the study.\n",
    "best_params = study.best_trial.params\n",
    "best_params['feature_contri']= [2.0, 0.1, 0.1, 1.0]\n",
    "best_params['monotone_constraints']= '1,0,0,0'\n",
    "best_params['monotone_constraints_method']= 'intermediate'\n",
    "\n",
    "lgb_train = lgb.Dataset(X_train_val, y_train_val)\n",
    "lgb_val = lgb.Dataset(X_train_val, y_train_val, reference=lgb_train)\n",
    "\n",
    "# Train the final model.\n",
    "final_model = lgb.train(\n",
    "    best_params,\n",
    "    lgb_train,\n",
    "    num_boost_round=5000,             \n",
    "    valid_sets=[lgb_val]\n",
    ")\n",
    "\n",
    "clear_output(wait=False)"
   ]
  },
  {
   "cell_type": "code",
   "execution_count": 45,
   "id": "28215e56-aa8e-4fdd-8bf6-689a003c548f",
   "metadata": {},
   "outputs": [
    {
     "data": {
      "text/plain": [
       "<lightgbm.basic.Booster at 0x25b2f216ef0>"
      ]
     },
     "execution_count": 45,
     "metadata": {},
     "output_type": "execute_result"
    }
   ],
   "source": [
    "final_model.save_model('ScenarioB_lgbm_final_model_001.txt')"
   ]
  },
  {
   "cell_type": "code",
   "execution_count": 32,
   "id": "d94ae54a-5f48-448c-bc29-33f58181fad2",
   "metadata": {},
   "outputs": [
    {
     "name": "stdout",
     "output_type": "stream",
     "text": [
      "Features in order: ['NDVI', 'Air_Temperature', 'relative_humidity', 'Downward_Short-Wave_Radiation_Flux']\n",
      "Monotone constraints: 1,0,0,0\n"
     ]
    }
   ],
   "source": [
    "print(\"Features in order:\", final_model.feature_name())\n",
    "print(\"Monotone constraints:\", final_model.params.get('monotone_constraints'))"
   ]
  },
  {
   "cell_type": "code",
   "execution_count": 37,
   "id": "b56720af-309e-4557-aa58-e3aa068ccdc4",
   "metadata": {},
   "outputs": [
    {
     "data": {
      "text/plain": [
       "{'objective': 'huber',\n",
       " 'learning_rate': 0.003500853884222846,\n",
       " 'num_leaves': 120,\n",
       " 'max_depth': 3,\n",
       " 'feature_fraction': 0.9603164213952968,\n",
       " 'bagging_fraction': 0.8605661311481673,\n",
       " 'bagging_freq': 9,\n",
       " 'lambda_l1': 2.6818804850722935,\n",
       " 'lambda_l2': 1.1771272080089938,\n",
       " 'feature_contri': [1.0, 1.0, 1.0, 0.5],\n",
       " 'monotone_constraints': '1,0,0,0',\n",
       " 'monotone_constraints_method': 'intermediate',\n",
       " 'num_iterations': 2500}"
      ]
     },
     "execution_count": 37,
     "metadata": {},
     "output_type": "execute_result"
    }
   ],
   "source": [
    "final_model.params"
   ]
  },
  {
   "cell_type": "code",
   "execution_count": 674,
   "id": "40fe86c4-9675-4ebd-8a22-abe039cfbefd",
   "metadata": {},
   "outputs": [
    {
     "data": {
      "text/plain": [
       "['NDVI',\n",
       " 'Air_Temperature',\n",
       " 'relative_humidity',\n",
       " 'Downward_Short-Wave_Radiation_Flux']"
      ]
     },
     "execution_count": 674,
     "metadata": {},
     "output_type": "execute_result"
    }
   ],
   "source": [
    "final_model.feature_name()"
   ]
  }
 ],
 "metadata": {
  "kernelspec": {
   "display_name": "Python 3 (ipykernel)",
   "language": "python",
   "name": "python3"
  },
  "language_info": {
   "codemirror_mode": {
    "name": "ipython",
    "version": 3
   },
   "file_extension": ".py",
   "mimetype": "text/x-python",
   "name": "python",
   "nbconvert_exporter": "python",
   "pygments_lexer": "ipython3",
   "version": "3.10.12"
  }
 },
 "nbformat": 4,
 "nbformat_minor": 5
}
